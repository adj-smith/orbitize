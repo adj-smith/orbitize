{
 "cells": [
  {
   "cell_type": "markdown",
   "metadata": {},
   "source": [
    "# Using the O'Neil (2019) Observation-based Priors\n",
    "\n",
    "by Sarah Blunt (2020)"
   ]
  },
  {
   "cell_type": "code",
   "execution_count": 6,
   "metadata": {},
   "outputs": [],
   "source": [
    "%matploltib \n",
    "\n",
    "import numpy as np\n",
    "import multiprocessing as mp\n",
    "\n",
    "import orbitize\n",
    "from orbitize import driver, priors"
   ]
  },
  {
   "cell_type": "markdown",
   "metadata": {},
   "source": [
    "### Set up MCMC run"
   ]
  },
  {
   "cell_type": "code",
   "execution_count": 12,
   "metadata": {},
   "outputs": [],
   "source": [
    "filename = \"{}/GJ504.csv\".format(orbitize.DATADIR)\n",
    "\n",
    "# system parameters\n",
    "num_secondary_bodies = 1\n",
    "system_mass = 1.75 # [Msol]\n",
    "plx = 51.44 # [mas]\n",
    "mass_err = 0.05 # [Msol]\n",
    "plx_err = 0.12 # [mas]\n",
    "\n",
    "my_driver = driver.Driver(\n",
    "    filename, 'OFTI', num_secondary_bodies, system_mass, plx, mass_err=mass_err, plx_err=plx_err\n",
    ")"
   ]
  },
  {
   "cell_type": "markdown",
   "metadata": {},
   "source": [
    "## Modify Priors\n",
    "\n",
    "Define the priors on `sma`, `ecc`, `tau`, `plx`, and `mtot` to be the O'Neil observation-based prior."
   ]
  },
  {
   "cell_type": "code",
   "execution_count": 13,
   "metadata": {},
   "outputs": [
    {
     "name": "stdout",
     "output_type": "stream",
     "text": [
      "{'sma1': 0, 'ecc1': 1, 'inc1': 2, 'aop1': 3, 'pan1': 4, 'tau1': 5, 'plx': 6, 'mtot': 7}\n"
     ]
    },
    {
     "data": {
      "text/plain": [
       "[ObsPrior, ObsPrior, Sine, Uniform, Uniform, ObsPrior, ObsPrior, ObsPrior]"
      ]
     },
     "execution_count": 13,
     "metadata": {},
     "output_type": "execute_result"
    }
   ],
   "source": [
    "# convert input sep/PA measurements to RA/decl\n",
    "sep = np.array(my_driver.system.data_table['quant1'])\n",
    "sep_err = np.array(my_driver.system.data_table['quant1_err'])\n",
    "pa = np.radians(np.array(my_driver.system.data_table['quant2']))\n",
    "pa_err = np.radians(np.array(my_driver.system.data_table['quant2_err']))\n",
    "\n",
    "\n",
    "ra_err = np.sqrt(\n",
    "    (np.cos(pa) * sep_err)**2 + \n",
    "    (sep * np.sin(pa) * pa_err)**2\n",
    ")\n",
    "dec_err = np.sqrt(\n",
    "    (np.sin(pa) * sep_err)**2 + \n",
    "    (sep * np.cos(pa) * pa_err)**2\n",
    ")\n",
    "\n",
    "\n",
    "epochs = np.array(my_driver.system.data_table['epoch'])\n",
    "\n",
    "# define the `ObsPrior` object\n",
    "my_obsprior = priors.ObsPrior(ra_err, dec_err, epochs)\n",
    "\n",
    "print(my_driver.system.param_idx)\n",
    "\n",
    "# set the priors on `sma`, `ecc`, and `tau` to point to this object\n",
    "for i in [0, 1, 5]:\n",
    "    my_driver.system.sys_priors[i] = my_obsprior\n",
    "\n",
    "my_driver.system.sys_priors"
   ]
  },
  {
   "cell_type": "markdown",
   "metadata": {},
   "source": [
    "### Run OFTI!"
   ]
  },
  {
   "cell_type": "code",
   "execution_count": 18,
   "metadata": {},
   "outputs": [],
   "source": [
    "my_driver.sampler.run_sampler(100000, burn_steps=1000, examine_chains=True)"
   ]
  },
  {
   "cell_type": "code",
   "execution_count": null,
   "metadata": {},
   "outputs": [],
   "source": [
    "my_corner = my_driver.sampler.results.plot_corner()\n",
    "my_corner"
   ]
  },
  {
   "cell_type": "markdown",
   "metadata": {},
   "source": [
    "### Examine the Prior Shapes"
   ]
  },
  {
   "cell_type": "code",
   "execution_count": null,
   "metadata": {},
   "outputs": [],
   "source": [
    "n_pts = 10\n",
    "\n",
    "# make an array of sample orbits to compute lnprob: maybe 1000 orbits long, drawn from uniform dists in all 5 params\n"
   ]
  }
 ],
 "metadata": {
  "kernelspec": {
   "display_name": "Python 3.7.6 64-bit ('python3.7': conda)",
   "language": "python",
   "name": "python37664bitpython37conda5785220be34f4f6fa52b2ff37321b463"
  },
  "language_info": {
   "codemirror_mode": {
    "name": "ipython",
    "version": 3
   },
   "file_extension": ".py",
   "mimetype": "text/x-python",
   "name": "python",
   "nbconvert_exporter": "python",
   "pygments_lexer": "ipython3",
   "version": "3.7.6"
  }
 },
 "nbformat": 4,
 "nbformat_minor": 4
}
